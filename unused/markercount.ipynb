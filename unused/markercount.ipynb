{
 "cells": [
  {
   "cell_type": "code",
   "execution_count": 1,
   "id": "4ead3940-bf95-4e49-9c8c-c11463cab34b",
   "metadata": {},
   "outputs": [
    {
     "name": "stdout",
     "output_type": "stream",
     "text": [
      "https://github.com/combio-dku\n"
     ]
    }
   ],
   "source": [
    "import copy\n",
    "import numpy as np\n",
    "import pandas as pd\n",
    "import scanpy as sc\n",
    "from MarkerCount.marker_count import MarkerCount_Ref, MarkerCount"
   ]
  },
  {
   "cell_type": "code",
   "execution_count": 4,
   "id": "fbcbcf18-7dab-4d70-9db5-4d201d27474a",
   "metadata": {
    "tags": []
   },
   "outputs": [],
   "source": [
    "from importlib.metadata import version"
   ]
  },
  {
   "cell_type": "code",
   "execution_count": 5,
   "id": "0d6a9768-c4a6-4f05-bf1b-5b9121256841",
   "metadata": {
    "tags": []
   },
   "outputs": [
    {
     "data": {
      "text/plain": [
       "'1.4.3'"
      ]
     },
     "execution_count": 5,
     "metadata": {},
     "output_type": "execute_result"
    }
   ],
   "source": [
    "version('pandas')\n",
    "\n",
    "#require use of 1.4.3 panda"
   ]
  },
  {
   "cell_type": "markdown",
   "id": "0a6c8dee-871d-4be5-b0b2-02db0ff9fa74",
   "metadata": {},
   "source": [
    "#### Import markers"
   ]
  },
  {
   "cell_type": "code",
   "execution_count": 11,
   "id": "3e2ad50a-69f2-409e-bbb9-73b9d6fdb7f3",
   "metadata": {},
   "outputs": [],
   "source": [
    "file_marker_matrix = './../data/markercount.xlsx'\n",
    "#df_mkr_mat = pd.read_excel(file_marker_matrix, index_col = 0)\n",
    "\n",
    "#This is for subsheet which have 4 subtype (MES1 + MES2 = MES, and also combined NPC)\n",
    "df_mkr_mat = pd.read_excel(file_marker_matrix, index_col = 0, sheet_name=1)\n",
    "\n",
    "df_mkr_mat.fillna(0,inplace=True)\n",
    "df_mkr_mat= df_mkr_mat.astype(int)"
   ]
  },
  {
   "cell_type": "code",
   "execution_count": 10,
   "id": "591ce695-63b2-4040-bb5c-8efba91b15c6",
   "metadata": {},
   "outputs": [
    {
     "data": {
      "text/html": [
       "<div>\n",
       "<style scoped>\n",
       "    .dataframe tbody tr th:only-of-type {\n",
       "        vertical-align: middle;\n",
       "    }\n",
       "\n",
       "    .dataframe tbody tr th {\n",
       "        vertical-align: top;\n",
       "    }\n",
       "\n",
       "    .dataframe thead th {\n",
       "        text-align: right;\n",
       "    }\n",
       "</style>\n",
       "<table border=\"1\" class=\"dataframe\">\n",
       "  <thead>\n",
       "    <tr style=\"text-align: right;\">\n",
       "      <th></th>\n",
       "      <th>HILPDA</th>\n",
       "      <th>ADM</th>\n",
       "      <th>DDIT3</th>\n",
       "      <th>NDRG1</th>\n",
       "      <th>HERPUD1</th>\n",
       "      <th>DNAJB9</th>\n",
       "      <th>TRIB3</th>\n",
       "      <th>ENO2</th>\n",
       "      <th>AKAP12</th>\n",
       "      <th>SQSTM1</th>\n",
       "      <th>...</th>\n",
       "      <th>DLX6-AS1</th>\n",
       "      <th>SOX11</th>\n",
       "      <th>NREP</th>\n",
       "      <th>FNBP1L</th>\n",
       "      <th>TAGLN3.1</th>\n",
       "      <th>STMN4</th>\n",
       "      <th>DLX5</th>\n",
       "      <th>SOX4.1</th>\n",
       "      <th>MAP1B</th>\n",
       "      <th>RBFOX2</th>\n",
       "    </tr>\n",
       "  </thead>\n",
       "  <tbody>\n",
       "    <tr>\n",
       "      <th>MES</th>\n",
       "      <td>1</td>\n",
       "      <td>1</td>\n",
       "      <td>1</td>\n",
       "      <td>1</td>\n",
       "      <td>1</td>\n",
       "      <td>1</td>\n",
       "      <td>1</td>\n",
       "      <td>1</td>\n",
       "      <td>1</td>\n",
       "      <td>1</td>\n",
       "      <td>...</td>\n",
       "      <td>0</td>\n",
       "      <td>0</td>\n",
       "      <td>0</td>\n",
       "      <td>0</td>\n",
       "      <td>0</td>\n",
       "      <td>0</td>\n",
       "      <td>0</td>\n",
       "      <td>0</td>\n",
       "      <td>0</td>\n",
       "      <td>0</td>\n",
       "    </tr>\n",
       "    <tr>\n",
       "      <th>AC</th>\n",
       "      <td>0</td>\n",
       "      <td>0</td>\n",
       "      <td>0</td>\n",
       "      <td>0</td>\n",
       "      <td>0</td>\n",
       "      <td>0</td>\n",
       "      <td>0</td>\n",
       "      <td>0</td>\n",
       "      <td>0</td>\n",
       "      <td>0</td>\n",
       "      <td>...</td>\n",
       "      <td>0</td>\n",
       "      <td>0</td>\n",
       "      <td>0</td>\n",
       "      <td>0</td>\n",
       "      <td>0</td>\n",
       "      <td>0</td>\n",
       "      <td>0</td>\n",
       "      <td>0</td>\n",
       "      <td>0</td>\n",
       "      <td>0</td>\n",
       "    </tr>\n",
       "    <tr>\n",
       "      <th>OPC</th>\n",
       "      <td>0</td>\n",
       "      <td>0</td>\n",
       "      <td>0</td>\n",
       "      <td>0</td>\n",
       "      <td>0</td>\n",
       "      <td>0</td>\n",
       "      <td>0</td>\n",
       "      <td>0</td>\n",
       "      <td>0</td>\n",
       "      <td>0</td>\n",
       "      <td>...</td>\n",
       "      <td>0</td>\n",
       "      <td>0</td>\n",
       "      <td>0</td>\n",
       "      <td>0</td>\n",
       "      <td>0</td>\n",
       "      <td>0</td>\n",
       "      <td>0</td>\n",
       "      <td>0</td>\n",
       "      <td>0</td>\n",
       "      <td>0</td>\n",
       "    </tr>\n",
       "    <tr>\n",
       "      <th>NPC</th>\n",
       "      <td>0</td>\n",
       "      <td>0</td>\n",
       "      <td>0</td>\n",
       "      <td>0</td>\n",
       "      <td>0</td>\n",
       "      <td>0</td>\n",
       "      <td>0</td>\n",
       "      <td>0</td>\n",
       "      <td>0</td>\n",
       "      <td>0</td>\n",
       "      <td>...</td>\n",
       "      <td>1</td>\n",
       "      <td>1</td>\n",
       "      <td>1</td>\n",
       "      <td>1</td>\n",
       "      <td>1</td>\n",
       "      <td>1</td>\n",
       "      <td>1</td>\n",
       "      <td>1</td>\n",
       "      <td>1</td>\n",
       "      <td>1</td>\n",
       "    </tr>\n",
       "  </tbody>\n",
       "</table>\n",
       "<p>4 rows × 159 columns</p>\n",
       "</div>"
      ],
      "text/plain": [
       "     HILPDA  ADM  DDIT3  NDRG1  HERPUD1  DNAJB9  TRIB3  ENO2  AKAP12  SQSTM1  \\\n",
       "MES       1    1      1      1        1       1      1     1       1       1   \n",
       "AC        0    0      0      0        0       0      0     0       0       0   \n",
       "OPC       0    0      0      0        0       0      0     0       0       0   \n",
       "NPC       0    0      0      0        0       0      0     0       0       0   \n",
       "\n",
       "     ...  DLX6-AS1  SOX11  NREP  FNBP1L  TAGLN3.1  STMN4  DLX5  SOX4.1  MAP1B  \\\n",
       "MES  ...         0      0     0       0         0      0     0       0      0   \n",
       "AC   ...         0      0     0       0         0      0     0       0      0   \n",
       "OPC  ...         0      0     0       0         0      0     0       0      0   \n",
       "NPC  ...         1      1     1       1         1      1     1       1      1   \n",
       "\n",
       "     RBFOX2  \n",
       "MES       0  \n",
       "AC        0  \n",
       "OPC       0  \n",
       "NPC       1  \n",
       "\n",
       "[4 rows x 159 columns]"
      ]
     },
     "execution_count": 10,
     "metadata": {},
     "output_type": "execute_result"
    }
   ],
   "source": [
    "df_mkr_mat"
   ]
  },
  {
   "cell_type": "markdown",
   "id": "81ea1370-3982-4233-a7bd-6196c657f3f3",
   "metadata": {
    "tags": []
   },
   "source": [
    "#### Import dataset"
   ]
  },
  {
   "cell_type": "code",
   "execution_count": 44,
   "id": "2454a87c-c1d8-4d05-a4ca-bab5d1d199d9",
   "metadata": {},
   "outputs": [],
   "source": [
    "experiment = ['control','radiated']\n",
    "donor_group = experiment[0]"
   ]
  },
  {
   "cell_type": "code",
   "execution_count": 45,
   "id": "37da8bfc-2987-4342-a288-dc8c23582cb7",
   "metadata": {},
   "outputs": [],
   "source": [
    "file_test = './../output/'+ donor_group +'_raw_filtered.h5ad'\n",
    "adata_test = sc.read_h5ad(file_test)"
   ]
  },
  {
   "cell_type": "markdown",
   "id": "2d34e263-30c1-4144-8c60-cf7d15371d76",
   "metadata": {},
   "source": [
    "#### Try Calculate all donor_id once "
   ]
  },
  {
   "cell_type": "code",
   "execution_count": 30,
   "id": "0db01b42-3d78-4aba-9100-2dfd9fc8941f",
   "metadata": {},
   "outputs": [],
   "source": [
    "## Variables to pass to the MkrCnt_Ref\n",
    "X_test = adata_test.to_df() # rows: cell, cols: genes\n",
    "\n",
    "df_res = MarkerCount(X_test, df_mkr_mat, \\\n",
    "                      log_transformed = False, verbose = True )   \n",
    "\n",
    "## The identification results are stored in df_res['cell_type_pred']\n",
    "adata_test.obs['markercount'] = df_res['cell_type_pred'] \n",
    "\n",
    "export = adata_test.obs[\"markercount\"]\n",
    "\n",
    "export.to_csv(r'./../output/markercount.csv',index = True, header = False)"
   ]
  },
  {
   "cell_type": "markdown",
   "id": "0d241e0f-47d4-43d0-bea9-5c6745024a39",
   "metadata": {},
   "source": [
    "#### Now this time calculate each seperately (but automatatically)"
   ]
  },
  {
   "cell_type": "code",
   "execution_count": 41,
   "id": "587b8c98-748b-4dad-927a-a880a2692864",
   "metadata": {},
   "outputs": [
    {
     "name": "stdout",
     "output_type": "stream",
     "text": [
      "E37N\n",
      "MarkerCount running ..  \n",
      "N_cells_per_cluster: max, median, min = 218, 94, 28 with 23(2225) clusters(cells)\n"
     ]
    },
    {
     "name": "stderr",
     "output_type": "stream",
     "text": [
      "/home/point/anaconda3/lib/python3.10/site-packages/MarkerCount/marker_count.py:1045: FutureWarning: Passing a set as an indexer is deprecated and will raise in a future version. Use a list instead.\n",
      "  mkrs = get_best_n_markers( df_ofreq_tmp_all.loc[:,ct_mkrs], ct, of_th = of_th, \\\n",
      "/tmp/ipykernel_35321/1752154538.py:24: ImplicitModificationWarning: Trying to modify attribute `.obs` of view, initializing view as actual.\n",
      "  each.obs['markercount'] = df_res['cell_type_pred']\n"
     ]
    },
    {
     "name": "stdout",
     "output_type": "stream",
     "text": [
      "N_markers: 18(MES), 39(AC), 40(OPC), 40(NPC), \n",
      "MarkerCount processing done.\n",
      "done_E37N\n",
      "E24N\n",
      "MarkerCount running ..  \n",
      "N_cells_per_cluster: max, median, min = 82, 21, 1 with 6(158) clusters(cells)\n"
     ]
    },
    {
     "name": "stderr",
     "output_type": "stream",
     "text": [
      "/home/point/anaconda3/lib/python3.10/site-packages/MarkerCount/marker_count.py:1045: FutureWarning: Passing a set as an indexer is deprecated and will raise in a future version. Use a list instead.\n",
      "  mkrs = get_best_n_markers( df_ofreq_tmp_all.loc[:,ct_mkrs], ct, of_th = of_th, \\\n",
      "/tmp/ipykernel_35321/1752154538.py:24: ImplicitModificationWarning: Trying to modify attribute `.obs` of view, initializing view as actual.\n",
      "  each.obs['markercount'] = df_res['cell_type_pred']\n"
     ]
    },
    {
     "name": "stdout",
     "output_type": "stream",
     "text": [
      "N_markers: 18(MES), 39(AC), 40(OPC), 40(NPC), \n",
      "MarkerCount processing done.\n",
      "done_E24N\n",
      "E56N\n",
      "MarkerCount running ..  \n",
      "N_cells_per_cluster: max, median, min = 178, 36, 23 with 11(552) clusters(cells)\n"
     ]
    },
    {
     "name": "stderr",
     "output_type": "stream",
     "text": [
      "/home/point/anaconda3/lib/python3.10/site-packages/MarkerCount/marker_count.py:1045: FutureWarning: Passing a set as an indexer is deprecated and will raise in a future version. Use a list instead.\n",
      "  mkrs = get_best_n_markers( df_ofreq_tmp_all.loc[:,ct_mkrs], ct, of_th = of_th, \\\n",
      "/home/point/anaconda3/lib/python3.10/site-packages/MarkerCount/marker_count.py:1045: FutureWarning: Passing a set as an indexer is deprecated and will raise in a future version. Use a list instead.\n",
      "  mkrs = get_best_n_markers( df_ofreq_tmp_all.loc[:,ct_mkrs], ct, of_th = of_th, \\\n",
      "/tmp/ipykernel_35321/1752154538.py:24: ImplicitModificationWarning: Trying to modify attribute `.obs` of view, initializing view as actual.\n",
      "  each.obs['markercount'] = df_res['cell_type_pred']\n"
     ]
    },
    {
     "name": "stdout",
     "output_type": "stream",
     "text": [
      "N_markers: 18(MES), 18(AC), 40(OPC), 40(NPC), \n",
      "MarkerCount processing done.\n",
      "done_E56N\n",
      "E31N\n",
      "MarkerCount running ..  \n",
      "N_cells_per_cluster: max, median, min = 148, 68, 37 with 20(1633) clusters(cells)\n"
     ]
    },
    {
     "name": "stderr",
     "output_type": "stream",
     "text": [
      "/home/point/anaconda3/lib/python3.10/site-packages/MarkerCount/marker_count.py:1045: FutureWarning: Passing a set as an indexer is deprecated and will raise in a future version. Use a list instead.\n",
      "  mkrs = get_best_n_markers( df_ofreq_tmp_all.loc[:,ct_mkrs], ct, of_th = of_th, \\\n",
      "/home/point/anaconda3/lib/python3.10/site-packages/MarkerCount/marker_count.py:1045: FutureWarning: Passing a set as an indexer is deprecated and will raise in a future version. Use a list instead.\n",
      "  mkrs = get_best_n_markers( df_ofreq_tmp_all.loc[:,ct_mkrs], ct, of_th = of_th, \\\n"
     ]
    },
    {
     "name": "stdout",
     "output_type": "stream",
     "text": [
      "N_markers: 18(MES), 18(AC), 40(OPC), 40(NPC), \n",
      "MarkerCount processing done.\n"
     ]
    },
    {
     "name": "stderr",
     "output_type": "stream",
     "text": [
      "/tmp/ipykernel_35321/1752154538.py:24: ImplicitModificationWarning: Trying to modify attribute `.obs` of view, initializing view as actual.\n",
      "  each.obs['markercount'] = df_res['cell_type_pred']\n"
     ]
    },
    {
     "name": "stdout",
     "output_type": "stream",
     "text": [
      "done_E31N\n",
      "E35N\n",
      "MarkerCount running ..  \n",
      "N_cells_per_cluster: max, median, min = 117, 32, 20 with 11(558) clusters(cells)\n"
     ]
    },
    {
     "name": "stderr",
     "output_type": "stream",
     "text": [
      "/home/point/anaconda3/lib/python3.10/site-packages/MarkerCount/marker_count.py:1045: FutureWarning: Passing a set as an indexer is deprecated and will raise in a future version. Use a list instead.\n",
      "  mkrs = get_best_n_markers( df_ofreq_tmp_all.loc[:,ct_mkrs], ct, of_th = of_th, \\\n",
      "/tmp/ipykernel_35321/1752154538.py:24: ImplicitModificationWarning: Trying to modify attribute `.obs` of view, initializing view as actual.\n",
      "  each.obs['markercount'] = df_res['cell_type_pred']\n"
     ]
    },
    {
     "name": "stdout",
     "output_type": "stream",
     "text": [
      "N_markers: 18(MES), 39(AC), 40(OPC), 40(NPC), \n",
      "MarkerCount processing done.\n",
      "done_E35N\n",
      "E26N\n",
      "MarkerCount running ..  \n",
      "N_cells_per_cluster: max, median, min = 63, 26, 1 with 6(156) clusters(cells)\n"
     ]
    },
    {
     "name": "stderr",
     "output_type": "stream",
     "text": [
      "/home/point/anaconda3/lib/python3.10/site-packages/MarkerCount/marker_count.py:1045: FutureWarning: Passing a set as an indexer is deprecated and will raise in a future version. Use a list instead.\n",
      "  mkrs = get_best_n_markers( df_ofreq_tmp_all.loc[:,ct_mkrs], ct, of_th = of_th, \\\n",
      "/tmp/ipykernel_35321/1752154538.py:24: ImplicitModificationWarning: Trying to modify attribute `.obs` of view, initializing view as actual.\n",
      "  each.obs['markercount'] = df_res['cell_type_pred']\n"
     ]
    },
    {
     "name": "stdout",
     "output_type": "stream",
     "text": [
      "N_markers: 40(MES), 18(AC), 40(OPC), 40(NPC), \n",
      "MarkerCount processing done.\n",
      "done_E26N\n",
      "E62N\n",
      "MarkerCount running ..  \n",
      "N_cells_per_cluster: max, median, min = 66, 32, 3 with 7(215) clusters(cells)\n"
     ]
    },
    {
     "name": "stderr",
     "output_type": "stream",
     "text": [
      "/home/point/anaconda3/lib/python3.10/site-packages/MarkerCount/marker_count.py:1045: FutureWarning: Passing a set as an indexer is deprecated and will raise in a future version. Use a list instead.\n",
      "  mkrs = get_best_n_markers( df_ofreq_tmp_all.loc[:,ct_mkrs], ct, of_th = of_th, \\\n",
      "/home/point/anaconda3/lib/python3.10/site-packages/MarkerCount/marker_count.py:1045: FutureWarning: Passing a set as an indexer is deprecated and will raise in a future version. Use a list instead.\n",
      "  mkrs = get_best_n_markers( df_ofreq_tmp_all.loc[:,ct_mkrs], ct, of_th = of_th, \\\n",
      "/home/point/anaconda3/lib/python3.10/site-packages/MarkerCount/marker_count.py:1045: FutureWarning: Passing a set as an indexer is deprecated and will raise in a future version. Use a list instead.\n",
      "  mkrs = get_best_n_markers( df_ofreq_tmp_all.loc[:,ct_mkrs], ct, of_th = of_th, \\\n",
      "/tmp/ipykernel_35321/1752154538.py:24: ImplicitModificationWarning: Trying to modify attribute `.obs` of view, initializing view as actual.\n",
      "  each.obs['markercount'] = df_res['cell_type_pred']\n"
     ]
    },
    {
     "name": "stdout",
     "output_type": "stream",
     "text": [
      "N_markers: 18(MES), 18(AC), 40(OPC), 18(NPC), \n",
      "MarkerCount processing done.\n",
      "done_E62N\n",
      "E39N\n",
      "MarkerCount running ..  \n",
      "N_cells_per_cluster: max, median, min = 48, 29, 12 with 6(172) clusters(cells)\n"
     ]
    },
    {
     "name": "stderr",
     "output_type": "stream",
     "text": [
      "/home/point/anaconda3/lib/python3.10/site-packages/MarkerCount/marker_count.py:1045: FutureWarning: Passing a set as an indexer is deprecated and will raise in a future version. Use a list instead.\n",
      "  mkrs = get_best_n_markers( df_ofreq_tmp_all.loc[:,ct_mkrs], ct, of_th = of_th, \\\n",
      "/home/point/anaconda3/lib/python3.10/site-packages/MarkerCount/marker_count.py:1045: FutureWarning: Passing a set as an indexer is deprecated and will raise in a future version. Use a list instead.\n",
      "  mkrs = get_best_n_markers( df_ofreq_tmp_all.loc[:,ct_mkrs], ct, of_th = of_th, \\\n",
      "/tmp/ipykernel_35321/1752154538.py:24: ImplicitModificationWarning: Trying to modify attribute `.obs` of view, initializing view as actual.\n",
      "  each.obs['markercount'] = df_res['cell_type_pred']\n"
     ]
    },
    {
     "name": "stdout",
     "output_type": "stream",
     "text": [
      "N_markers: 18(MES), 39(AC), 40(OPC), 18(NPC), \n",
      "MarkerCount processing done.\n",
      "done_E39N\n",
      "E39N\n",
      "MarkerCount running ..  \n",
      "N_cells_per_cluster: max, median, min = 78, 27, 18 with 9(343) clusters(cells)\n"
     ]
    },
    {
     "name": "stderr",
     "output_type": "stream",
     "text": [
      "/home/point/anaconda3/lib/python3.10/site-packages/MarkerCount/marker_count.py:1045: FutureWarning: Passing a set as an indexer is deprecated and will raise in a future version. Use a list instead.\n",
      "  mkrs = get_best_n_markers( df_ofreq_tmp_all.loc[:,ct_mkrs], ct, of_th = of_th, \\\n",
      "/home/point/anaconda3/lib/python3.10/site-packages/MarkerCount/marker_count.py:1045: FutureWarning: Passing a set as an indexer is deprecated and will raise in a future version. Use a list instead.\n",
      "  mkrs = get_best_n_markers( df_ofreq_tmp_all.loc[:,ct_mkrs], ct, of_th = of_th, \\\n",
      "/tmp/ipykernel_35321/1752154538.py:24: ImplicitModificationWarning: Trying to modify attribute `.obs` of view, initializing view as actual.\n",
      "  each.obs['markercount'] = df_res['cell_type_pred']\n"
     ]
    },
    {
     "name": "stdout",
     "output_type": "stream",
     "text": [
      "N_markers: 18(MES), 39(AC), 40(OPC), 18(NPC), \n",
      "MarkerCount processing done.\n",
      "done_E39N\n",
      "E35N\n",
      "MarkerCount running ..  \n",
      "N_cells_per_cluster: max, median, min = 84, 41, 13 with 10(452) clusters(cells)\n"
     ]
    },
    {
     "name": "stderr",
     "output_type": "stream",
     "text": [
      "/home/point/anaconda3/lib/python3.10/site-packages/MarkerCount/marker_count.py:1045: FutureWarning: Passing a set as an indexer is deprecated and will raise in a future version. Use a list instead.\n",
      "  mkrs = get_best_n_markers( df_ofreq_tmp_all.loc[:,ct_mkrs], ct, of_th = of_th, \\\n",
      "/tmp/ipykernel_35321/1752154538.py:24: ImplicitModificationWarning: Trying to modify attribute `.obs` of view, initializing view as actual.\n",
      "  each.obs['markercount'] = df_res['cell_type_pred']\n"
     ]
    },
    {
     "name": "stdout",
     "output_type": "stream",
     "text": [
      "N_markers: 18(MES), 39(AC), 40(OPC), 40(NPC), \n",
      "MarkerCount processing done.\n",
      "done_E35N\n",
      "E37N\n",
      "MarkerCount running ..  \n",
      "N_cells_per_cluster: max, median, min = 174, 86, 19 with 21(1931) clusters(cells)\n"
     ]
    },
    {
     "name": "stderr",
     "output_type": "stream",
     "text": [
      "/home/point/anaconda3/lib/python3.10/site-packages/MarkerCount/marker_count.py:1045: FutureWarning: Passing a set as an indexer is deprecated and will raise in a future version. Use a list instead.\n",
      "  mkrs = get_best_n_markers( df_ofreq_tmp_all.loc[:,ct_mkrs], ct, of_th = of_th, \\\n",
      "/tmp/ipykernel_35321/1752154538.py:24: ImplicitModificationWarning: Trying to modify attribute `.obs` of view, initializing view as actual.\n",
      "  each.obs['markercount'] = df_res['cell_type_pred']\n"
     ]
    },
    {
     "name": "stdout",
     "output_type": "stream",
     "text": [
      "N_markers: 18(MES), 39(AC), 40(OPC), 40(NPC), \n",
      "MarkerCount processing done.\n",
      "done_E37N\n",
      "E56N\n",
      "MarkerCount running ..  \n",
      "N_cells_per_cluster: max, median, min = 72, 23, 1 with 8(267) clusters(cells)\n"
     ]
    },
    {
     "name": "stderr",
     "output_type": "stream",
     "text": [
      "/home/point/anaconda3/lib/python3.10/site-packages/MarkerCount/marker_count.py:1045: FutureWarning: Passing a set as an indexer is deprecated and will raise in a future version. Use a list instead.\n",
      "  mkrs = get_best_n_markers( df_ofreq_tmp_all.loc[:,ct_mkrs], ct, of_th = of_th, \\\n",
      "/tmp/ipykernel_35321/1752154538.py:24: ImplicitModificationWarning: Trying to modify attribute `.obs` of view, initializing view as actual.\n",
      "  each.obs['markercount'] = df_res['cell_type_pred']\n"
     ]
    },
    {
     "name": "stdout",
     "output_type": "stream",
     "text": [
      "N_markers: 40(MES), 18(AC), 40(OPC), 40(NPC), \n",
      "MarkerCount processing done.\n",
      "done_E56N\n",
      "E26N\n",
      "MarkerCount running ..  \n",
      "N_cells_per_cluster: max, median, min = 78, 28, 12 with 7(240) clusters(cells)\n"
     ]
    },
    {
     "name": "stderr",
     "output_type": "stream",
     "text": [
      "/home/point/anaconda3/lib/python3.10/site-packages/MarkerCount/marker_count.py:1045: FutureWarning: Passing a set as an indexer is deprecated and will raise in a future version. Use a list instead.\n",
      "  mkrs = get_best_n_markers( df_ofreq_tmp_all.loc[:,ct_mkrs], ct, of_th = of_th, \\\n",
      "/tmp/ipykernel_35321/1752154538.py:24: ImplicitModificationWarning: Trying to modify attribute `.obs` of view, initializing view as actual.\n",
      "  each.obs['markercount'] = df_res['cell_type_pred']\n"
     ]
    },
    {
     "name": "stdout",
     "output_type": "stream",
     "text": [
      "N_markers: 40(MES), 18(AC), 40(OPC), 40(NPC), \n",
      "MarkerCount processing done.\n",
      "done_E26N\n",
      "E31N\n",
      "MarkerCount running ..  \n",
      "N_cells_per_cluster: max, median, min = 213, 42, 12 with 13(753) clusters(cells)\n"
     ]
    },
    {
     "name": "stderr",
     "output_type": "stream",
     "text": [
      "/home/point/anaconda3/lib/python3.10/site-packages/MarkerCount/marker_count.py:1045: FutureWarning: Passing a set as an indexer is deprecated and will raise in a future version. Use a list instead.\n",
      "  mkrs = get_best_n_markers( df_ofreq_tmp_all.loc[:,ct_mkrs], ct, of_th = of_th, \\\n",
      "/home/point/anaconda3/lib/python3.10/site-packages/MarkerCount/marker_count.py:1045: FutureWarning: Passing a set as an indexer is deprecated and will raise in a future version. Use a list instead.\n",
      "  mkrs = get_best_n_markers( df_ofreq_tmp_all.loc[:,ct_mkrs], ct, of_th = of_th, \\\n",
      "/tmp/ipykernel_35321/1752154538.py:24: ImplicitModificationWarning: Trying to modify attribute `.obs` of view, initializing view as actual.\n",
      "  each.obs['markercount'] = df_res['cell_type_pred']\n"
     ]
    },
    {
     "name": "stdout",
     "output_type": "stream",
     "text": [
      "N_markers: 18(MES), 18(AC), 40(OPC), 40(NPC), \n",
      "MarkerCount processing done.\n",
      "done_E31N\n",
      "E62N\n",
      "MarkerCount running ..  \n",
      "N_cells_per_cluster: max, median, min = 50, 26, 6 with 7(201) clusters(cells)\n"
     ]
    },
    {
     "name": "stderr",
     "output_type": "stream",
     "text": [
      "/home/point/anaconda3/lib/python3.10/site-packages/MarkerCount/marker_count.py:1045: FutureWarning: Passing a set as an indexer is deprecated and will raise in a future version. Use a list instead.\n",
      "  mkrs = get_best_n_markers( df_ofreq_tmp_all.loc[:,ct_mkrs], ct, of_th = of_th, \\\n",
      "/home/point/anaconda3/lib/python3.10/site-packages/MarkerCount/marker_count.py:1045: FutureWarning: Passing a set as an indexer is deprecated and will raise in a future version. Use a list instead.\n",
      "  mkrs = get_best_n_markers( df_ofreq_tmp_all.loc[:,ct_mkrs], ct, of_th = of_th, \\\n",
      "/tmp/ipykernel_35321/1752154538.py:24: ImplicitModificationWarning: Trying to modify attribute `.obs` of view, initializing view as actual.\n",
      "  each.obs['markercount'] = df_res['cell_type_pred']\n"
     ]
    },
    {
     "name": "stdout",
     "output_type": "stream",
     "text": [
      "N_markers: 18(MES), 18(AC), 40(OPC), 40(NPC), \n",
      "MarkerCount processing done.\n",
      "done_E62N\n",
      "E24N\n",
      "MarkerCount running ..  \n",
      "N_cells_per_cluster: max, median, min = 75, 39, 10 with 8(312) clusters(cells)\n",
      "N_markers: 18(MES), 39(AC), 40(OPC), 40(NPC), \n",
      "MarkerCount processing done.\n",
      "done_E24N\n"
     ]
    },
    {
     "name": "stderr",
     "output_type": "stream",
     "text": [
      "/home/point/anaconda3/lib/python3.10/site-packages/MarkerCount/marker_count.py:1045: FutureWarning: Passing a set as an indexer is deprecated and will raise in a future version. Use a list instead.\n",
      "  mkrs = get_best_n_markers( df_ofreq_tmp_all.loc[:,ct_mkrs], ct, of_th = of_th, \\\n",
      "/tmp/ipykernel_35321/1752154538.py:24: ImplicitModificationWarning: Trying to modify attribute `.obs` of view, initializing view as actual.\n",
      "  each.obs['markercount'] = df_res['cell_type_pred']\n"
     ]
    }
   ],
   "source": [
    "res_list= []\n",
    "pred_list = []\n",
    "\n",
    "experiment = ['control','radiated']\n",
    "\n",
    "for i in experiment: \n",
    "\n",
    "    donor_group = i\n",
    "    file_test = './../output/'+ donor_group +'_raw_filtered.h5ad'\n",
    "    adata_test = sc.read_h5ad(file_test)\n",
    "    \n",
    "    donor_id_list = adata_test.obs['donor_id'].unique()\n",
    "    for i in donor_id_list:\n",
    "        donor_id = i\n",
    "        each = adata_test[adata_test.obs['donor_id']== donor_id]\n",
    "        print(i)\n",
    "        #Just same code\n",
    "        X_test = each.to_df() # rows: cell, cols: genes\n",
    "        df_res = MarkerCount(X_test, df_mkr_mat, \\\n",
    "                              log_transformed = False, verbose = True )  \n",
    "\n",
    "        res_list.append(df_res)\n",
    "\n",
    "        each.obs['markercount'] = df_res['cell_type_pred'] \n",
    "        export = each.obs[['radiation','donor_id','markercount']]\n",
    "\n",
    "        pred_list.append(export)\n",
    "        print(\"done_\"+donor_id)"
   ]
  },
  {
   "cell_type": "code",
   "execution_count": 42,
   "id": "ecc11ca7-98d3-46e5-821e-cb79198152c7",
   "metadata": {},
   "outputs": [],
   "source": [
    "pred_all = pd.concat(pred_list)"
   ]
  },
  {
   "cell_type": "code",
   "execution_count": 43,
   "id": "ab36a80d-b171-49c6-9ea6-a6c900aa9a57",
   "metadata": {},
   "outputs": [
    {
     "data": {
      "text/plain": [
       "9"
      ]
     },
     "execution_count": 43,
     "metadata": {},
     "output_type": "execute_result"
    }
   ],
   "source": [
    "# Check whether there is a duplication of cell_id \n",
    "cell_id = pred_all.index.values\n",
    "\n",
    "u, c = np.unique(cell_id, return_counts=True)\n",
    "dup = u[c > 1]\n",
    "\n",
    "len(dup)"
   ]
  },
  {
   "cell_type": "code",
   "execution_count": 44,
   "id": "c5c6ca6a-99d5-4026-9d42-0fee7048dc27",
   "metadata": {},
   "outputs": [],
   "source": [
    "# Yeah, there are\n",
    "# so it is reasonable to convert rowname to first column as \"R\" dataframe cannot handle replicated rownames\n",
    "\n",
    "pred_all.index.name = 'cell_id'\n",
    "pred_all.reset_index(inplace=True)"
   ]
  },
  {
   "cell_type": "code",
   "execution_count": 45,
   "id": "249987cd-f622-4d4e-bdad-ed54ef5a738e",
   "metadata": {},
   "outputs": [
    {
     "data": {
      "text/html": [
       "<div>\n",
       "<style scoped>\n",
       "    .dataframe tbody tr th:only-of-type {\n",
       "        vertical-align: middle;\n",
       "    }\n",
       "\n",
       "    .dataframe tbody tr th {\n",
       "        vertical-align: top;\n",
       "    }\n",
       "\n",
       "    .dataframe thead th {\n",
       "        text-align: right;\n",
       "    }\n",
       "</style>\n",
       "<table border=\"1\" class=\"dataframe\">\n",
       "  <thead>\n",
       "    <tr style=\"text-align: right;\">\n",
       "      <th></th>\n",
       "      <th>cell_id</th>\n",
       "      <th>radiation</th>\n",
       "      <th>donor_id</th>\n",
       "      <th>markercount</th>\n",
       "    </tr>\n",
       "  </thead>\n",
       "  <tbody>\n",
       "    <tr>\n",
       "      <th>0</th>\n",
       "      <td>AAACCCAAGAAAGCGA-1</td>\n",
       "      <td>control</td>\n",
       "      <td>E37N</td>\n",
       "      <td>MES</td>\n",
       "    </tr>\n",
       "    <tr>\n",
       "      <th>1</th>\n",
       "      <td>AAACCCAAGTACTCGT-1</td>\n",
       "      <td>control</td>\n",
       "      <td>E37N</td>\n",
       "      <td>MES</td>\n",
       "    </tr>\n",
       "    <tr>\n",
       "      <th>2</th>\n",
       "      <td>AAACCCACAAGCGCAA-1</td>\n",
       "      <td>control</td>\n",
       "      <td>E37N</td>\n",
       "      <td>MES</td>\n",
       "    </tr>\n",
       "    <tr>\n",
       "      <th>3</th>\n",
       "      <td>AAACCCAGTTGTGTTG-1</td>\n",
       "      <td>control</td>\n",
       "      <td>E37N</td>\n",
       "      <td>MES</td>\n",
       "    </tr>\n",
       "    <tr>\n",
       "      <th>4</th>\n",
       "      <td>AAACCCATCCTTGGAA-1</td>\n",
       "      <td>control</td>\n",
       "      <td>E37N</td>\n",
       "      <td>MES</td>\n",
       "    </tr>\n",
       "  </tbody>\n",
       "</table>\n",
       "</div>"
      ],
      "text/plain": [
       "              cell_id radiation donor_id markercount\n",
       "0  AAACCCAAGAAAGCGA-1   control     E37N         MES\n",
       "1  AAACCCAAGTACTCGT-1   control     E37N         MES\n",
       "2  AAACCCACAAGCGCAA-1   control     E37N         MES\n",
       "3  AAACCCAGTTGTGTTG-1   control     E37N         MES\n",
       "4  AAACCCATCCTTGGAA-1   control     E37N         MES"
      ]
     },
     "execution_count": 45,
     "metadata": {},
     "output_type": "execute_result"
    }
   ],
   "source": [
    "pred_all.head()"
   ]
  },
  {
   "cell_type": "code",
   "execution_count": 46,
   "id": "998693a3-378f-486a-8cdc-89b8eb150cc3",
   "metadata": {},
   "outputs": [],
   "source": [
    "# pred_all.to_csv('./../output/markercount.csv')\n",
    "pred_all.to_csv('./../output/markercount_4equal.csv')"
   ]
  }
 ],
 "metadata": {
  "kernelspec": {
   "display_name": "Python 3 (ipykernel)",
   "language": "python",
   "name": "python3"
  },
  "language_info": {
   "codemirror_mode": {
    "name": "ipython",
    "version": 3
   },
   "file_extension": ".py",
   "mimetype": "text/x-python",
   "name": "python",
   "nbconvert_exporter": "python",
   "pygments_lexer": "ipython3",
   "version": "3.10.9"
  }
 },
 "nbformat": 4,
 "nbformat_minor": 5
}
