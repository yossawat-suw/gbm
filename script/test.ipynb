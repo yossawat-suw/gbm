{
 "cells": [
  {
   "cell_type": "code",
   "execution_count": 62,
   "id": "4ead3940-bf95-4e49-9c8c-c11463cab34b",
   "metadata": {},
   "outputs": [],
   "source": [
    "import copy\n",
    "import numpy as np\n",
    "import pandas as pd\n",
    "import scanpy as sc\n",
    "from MarkerCount.marker_count import MarkerCount_Ref, MarkerCount\n",
    "import math as m"
   ]
  },
  {
   "cell_type": "markdown",
   "id": "81ea1370-3982-4233-a7bd-6196c657f3f3",
   "metadata": {
    "tags": []
   },
   "source": [
    "## Import dataset"
   ]
  },
  {
   "cell_type": "code",
   "execution_count": 30,
   "id": "37da8bfc-2987-4342-a288-dc8c23582cb7",
   "metadata": {},
   "outputs": [],
   "source": [
    "file_test = './../data/example/Melanoma_5K.h5ad'\n",
    "adata_test = sc.read_h5ad(file_test)\n",
    "\n",
    "## Variables to pass to the MkrCnt_Ref\n",
    "X_test = adata_test.to_df() # rows: cell, cols: genes\n",
    "\n",
    "## This is for comparison with the predicted cell type\n",
    "cell_type_test = adata_test.obs['broad_cell_type']\n"
   ]
  },
  {
   "cell_type": "code",
   "execution_count": 67,
   "id": "ac49c7af-384c-45a2-a276-c4c91532e7ec",
   "metadata": {},
   "outputs": [
    {
     "ename": "TypeError",
     "evalue": "cannot convert the series to <class 'float'>",
     "output_type": "error",
     "traceback": [
      "\u001b[0;31m---------------------------------------------------------------------------\u001b[0m",
      "\u001b[0;31mTypeError\u001b[0m                                 Traceback (most recent call last)",
      "Cell \u001b[0;32mIn[67], line 1\u001b[0m\n\u001b[0;32m----> 1\u001b[0m \u001b[43madata_test\u001b[49m\u001b[38;5;241;43m.\u001b[39;49m\u001b[43mto_df\u001b[49m\u001b[43m(\u001b[49m\u001b[43m)\u001b[49m\u001b[38;5;241;43m.\u001b[39;49m\u001b[43mapply\u001b[49m\u001b[43m(\u001b[49m\u001b[43mm\u001b[49m\u001b[38;5;241;43m.\u001b[39;49m\u001b[43mlog1p\u001b[49m\u001b[43m)\u001b[49m\n",
      "File \u001b[0;32m~/anaconda3/lib/python3.10/site-packages/pandas/core/frame.py:8845\u001b[0m, in \u001b[0;36mDataFrame.apply\u001b[0;34m(self, func, axis, raw, result_type, args, **kwargs)\u001b[0m\n\u001b[1;32m   8834\u001b[0m \u001b[38;5;28;01mfrom\u001b[39;00m \u001b[38;5;21;01mpandas\u001b[39;00m\u001b[38;5;21;01m.\u001b[39;00m\u001b[38;5;21;01mcore\u001b[39;00m\u001b[38;5;21;01m.\u001b[39;00m\u001b[38;5;21;01mapply\u001b[39;00m \u001b[38;5;28;01mimport\u001b[39;00m frame_apply\n\u001b[1;32m   8836\u001b[0m op \u001b[38;5;241m=\u001b[39m frame_apply(\n\u001b[1;32m   8837\u001b[0m     \u001b[38;5;28mself\u001b[39m,\n\u001b[1;32m   8838\u001b[0m     func\u001b[38;5;241m=\u001b[39mfunc,\n\u001b[0;32m   (...)\u001b[0m\n\u001b[1;32m   8843\u001b[0m     kwargs\u001b[38;5;241m=\u001b[39mkwargs,\n\u001b[1;32m   8844\u001b[0m )\n\u001b[0;32m-> 8845\u001b[0m \u001b[38;5;28;01mreturn\u001b[39;00m \u001b[43mop\u001b[49m\u001b[38;5;241;43m.\u001b[39;49m\u001b[43mapply\u001b[49m\u001b[43m(\u001b[49m\u001b[43m)\u001b[49m\u001b[38;5;241m.\u001b[39m__finalize__(\u001b[38;5;28mself\u001b[39m, method\u001b[38;5;241m=\u001b[39m\u001b[38;5;124m\"\u001b[39m\u001b[38;5;124mapply\u001b[39m\u001b[38;5;124m\"\u001b[39m)\n",
      "File \u001b[0;32m~/anaconda3/lib/python3.10/site-packages/pandas/core/apply.py:733\u001b[0m, in \u001b[0;36mFrameApply.apply\u001b[0;34m(self)\u001b[0m\n\u001b[1;32m    730\u001b[0m \u001b[38;5;28;01melif\u001b[39;00m \u001b[38;5;28mself\u001b[39m\u001b[38;5;241m.\u001b[39mraw:\n\u001b[1;32m    731\u001b[0m     \u001b[38;5;28;01mreturn\u001b[39;00m \u001b[38;5;28mself\u001b[39m\u001b[38;5;241m.\u001b[39mapply_raw()\n\u001b[0;32m--> 733\u001b[0m \u001b[38;5;28;01mreturn\u001b[39;00m \u001b[38;5;28;43mself\u001b[39;49m\u001b[38;5;241;43m.\u001b[39;49m\u001b[43mapply_standard\u001b[49m\u001b[43m(\u001b[49m\u001b[43m)\u001b[49m\n",
      "File \u001b[0;32m~/anaconda3/lib/python3.10/site-packages/pandas/core/apply.py:857\u001b[0m, in \u001b[0;36mFrameApply.apply_standard\u001b[0;34m(self)\u001b[0m\n\u001b[1;32m    856\u001b[0m \u001b[38;5;28;01mdef\u001b[39;00m \u001b[38;5;21mapply_standard\u001b[39m(\u001b[38;5;28mself\u001b[39m):\n\u001b[0;32m--> 857\u001b[0m     results, res_index \u001b[38;5;241m=\u001b[39m \u001b[38;5;28;43mself\u001b[39;49m\u001b[38;5;241;43m.\u001b[39;49m\u001b[43mapply_series_generator\u001b[49m\u001b[43m(\u001b[49m\u001b[43m)\u001b[49m\n\u001b[1;32m    859\u001b[0m     \u001b[38;5;66;03m# wrap results\u001b[39;00m\n\u001b[1;32m    860\u001b[0m     \u001b[38;5;28;01mreturn\u001b[39;00m \u001b[38;5;28mself\u001b[39m\u001b[38;5;241m.\u001b[39mwrap_results(results, res_index)\n",
      "File \u001b[0;32m~/anaconda3/lib/python3.10/site-packages/pandas/core/apply.py:873\u001b[0m, in \u001b[0;36mFrameApply.apply_series_generator\u001b[0;34m(self)\u001b[0m\n\u001b[1;32m    870\u001b[0m \u001b[38;5;28;01mwith\u001b[39;00m option_context(\u001b[38;5;124m\"\u001b[39m\u001b[38;5;124mmode.chained_assignment\u001b[39m\u001b[38;5;124m\"\u001b[39m, \u001b[38;5;28;01mNone\u001b[39;00m):\n\u001b[1;32m    871\u001b[0m     \u001b[38;5;28;01mfor\u001b[39;00m i, v \u001b[38;5;129;01min\u001b[39;00m \u001b[38;5;28menumerate\u001b[39m(series_gen):\n\u001b[1;32m    872\u001b[0m         \u001b[38;5;66;03m# ignore SettingWithCopy here in case the user mutates\u001b[39;00m\n\u001b[0;32m--> 873\u001b[0m         results[i] \u001b[38;5;241m=\u001b[39m \u001b[38;5;28;43mself\u001b[39;49m\u001b[38;5;241;43m.\u001b[39;49m\u001b[43mf\u001b[49m\u001b[43m(\u001b[49m\u001b[43mv\u001b[49m\u001b[43m)\u001b[49m\n\u001b[1;32m    874\u001b[0m         \u001b[38;5;28;01mif\u001b[39;00m \u001b[38;5;28misinstance\u001b[39m(results[i], ABCSeries):\n\u001b[1;32m    875\u001b[0m             \u001b[38;5;66;03m# If we have a view on v, we need to make a copy because\u001b[39;00m\n\u001b[1;32m    876\u001b[0m             \u001b[38;5;66;03m#  series_generator will swap out the underlying data\u001b[39;00m\n\u001b[1;32m    877\u001b[0m             results[i] \u001b[38;5;241m=\u001b[39m results[i]\u001b[38;5;241m.\u001b[39mcopy(deep\u001b[38;5;241m=\u001b[39m\u001b[38;5;28;01mFalse\u001b[39;00m)\n",
      "File \u001b[0;32m~/anaconda3/lib/python3.10/site-packages/pandas/core/series.py:191\u001b[0m, in \u001b[0;36m_coerce_method.<locals>.wrapper\u001b[0;34m(self)\u001b[0m\n\u001b[1;32m    189\u001b[0m \u001b[38;5;28;01mif\u001b[39;00m \u001b[38;5;28mlen\u001b[39m(\u001b[38;5;28mself\u001b[39m) \u001b[38;5;241m==\u001b[39m \u001b[38;5;241m1\u001b[39m:\n\u001b[1;32m    190\u001b[0m     \u001b[38;5;28;01mreturn\u001b[39;00m converter(\u001b[38;5;28mself\u001b[39m\u001b[38;5;241m.\u001b[39miloc[\u001b[38;5;241m0\u001b[39m])\n\u001b[0;32m--> 191\u001b[0m \u001b[38;5;28;01mraise\u001b[39;00m \u001b[38;5;167;01mTypeError\u001b[39;00m(\u001b[38;5;124mf\u001b[39m\u001b[38;5;124m\"\u001b[39m\u001b[38;5;124mcannot convert the series to \u001b[39m\u001b[38;5;132;01m{\u001b[39;00mconverter\u001b[38;5;132;01m}\u001b[39;00m\u001b[38;5;124m\"\u001b[39m)\n",
      "\u001b[0;31mTypeError\u001b[0m: cannot convert the series to <class 'float'>"
     ]
    }
   ],
   "source": []
  },
  {
   "cell_type": "code",
   "execution_count": 51,
   "id": "8cd0588f-784e-4aaf-99a4-a9818763fe7a",
   "metadata": {},
   "outputs": [
    {
     "name": "stdout",
     "output_type": "stream",
     "text": [
      "None\n"
     ]
    }
   ],
   "source": []
  },
  {
   "cell_type": "code",
   "execution_count": 31,
   "id": "9888f0fe-a122-4ff8-a9ef-f8a188e3900f",
   "metadata": {},
   "outputs": [],
   "source": [
    "file_marker_matrix = './../data/example/Mkr_mat_CellMarker_Blood.csv'\n",
    "df_mkr_mat = pd.read_csv(file_marker_matrix, index_col = 0)"
   ]
  },
  {
   "cell_type": "code",
   "execution_count": 6,
   "id": "f1276529-d0b4-412e-8567-2d43770eeeaf",
   "metadata": {},
   "outputs": [],
   "source": [
    "## Variables to pass to the MkrCnt_Ref\n",
    "X_test = adata_test.to_df(layer = \"log1p\") # rows: cell, cols: genes"
   ]
  },
  {
   "cell_type": "code",
   "execution_count": 60,
   "id": "3c8ea01c-e065-4bd6-be42-72f078831fb4",
   "metadata": {},
   "outputs": [],
   "source": [
    "X_test = X_test.astype('float32')"
   ]
  },
  {
   "cell_type": "code",
   "execution_count": 7,
   "id": "abbcca3e-e458-4066-a52d-12d89297dc44",
   "metadata": {},
   "outputs": [],
   "source": [
    "file_marker_matrix = './../data/markercount.xlsx'\n",
    "df_mkr_mat = pd.read_excel(file_marker_matrix, index_col = 0)"
   ]
  },
  {
   "cell_type": "code",
   "execution_count": 8,
   "id": "6efaeb0b-a3c3-4ae6-a0a3-28e84e56b63b",
   "metadata": {},
   "outputs": [],
   "source": [
    "df_mkr_mat.fillna(0,inplace=True)\n",
    "df_mkr_mat= df_mkr_mat.astype(int)"
   ]
  },
  {
   "cell_type": "code",
   "execution_count": 9,
   "id": "0970c901-3df2-4ffd-bdab-2d8e5b7a7b7a",
   "metadata": {},
   "outputs": [
    {
     "name": "stdout",
     "output_type": "stream",
     "text": [
      "MarkerCount running ..  \n",
      "N_cells_per_cluster: max, median, min = 571, 151, 22 with 37(5669) clusters(cells)\n"
     ]
    },
    {
     "name": "stderr",
     "output_type": "stream",
     "text": [
      "/home/point/anaconda3/lib/python3.10/site-packages/MarkerCount/marker_count.py:1045: FutureWarning: Passing a set as an indexer is deprecated and will raise in a future version. Use a list instead.\n",
      "  mkrs = get_best_n_markers( df_ofreq_tmp_all.loc[:,ct_mkrs], ct, of_th = of_th, \\\n",
      "/home/point/anaconda3/lib/python3.10/site-packages/MarkerCount/marker_count.py:1045: FutureWarning: Passing a set as an indexer is deprecated and will raise in a future version. Use a list instead.\n",
      "  mkrs = get_best_n_markers( df_ofreq_tmp_all.loc[:,ct_mkrs], ct, of_th = of_th, \\\n",
      "/home/point/anaconda3/lib/python3.10/site-packages/MarkerCount/marker_count.py:1045: FutureWarning: Passing a set as an indexer is deprecated and will raise in a future version. Use a list instead.\n",
      "  mkrs = get_best_n_markers( df_ofreq_tmp_all.loc[:,ct_mkrs], ct, of_th = of_th, \\\n",
      "/home/point/anaconda3/lib/python3.10/site-packages/MarkerCount/marker_count.py:1045: FutureWarning: Passing a set as an indexer is deprecated and will raise in a future version. Use a list instead.\n",
      "  mkrs = get_best_n_markers( df_ofreq_tmp_all.loc[:,ct_mkrs], ct, of_th = of_th, \\\n"
     ]
    },
    {
     "name": "stdout",
     "output_type": "stream",
     "text": [
      "N_markers: 18(MES2), 18(MES1), 18(AC), 50(OPC), 50(NPC1), 18(NPC2), \n",
      "MarkerCount processing done.\n"
     ]
    }
   ],
   "source": [
    "df_res = MarkerCount(X_test, df_mkr_mat, \\\n",
    "                      log_transformed = False, verbose = True )   "
   ]
  },
  {
   "cell_type": "code",
   "execution_count": 13,
   "id": "cfee3e7a-2f60-4e31-b5b6-85b9380dd4a5",
   "metadata": {},
   "outputs": [],
   "source": [
    "## The identification results are stored in df_res['cell_type_pred']\n",
    "adata_test.obs['markercount'] = df_res['cell_type_pred'] "
   ]
  },
  {
   "cell_type": "code",
   "execution_count": 18,
   "id": "d3daf758-52e5-4bda-89e2-eaf7c0c5c799",
   "metadata": {},
   "outputs": [],
   "source": [
    "export = adata_test.obs[\"markercount\"]"
   ]
  },
  {
   "cell_type": "code",
   "execution_count": 21,
   "id": "0181bdac-9fc9-4851-9519-973f9c9d89ca",
   "metadata": {},
   "outputs": [],
   "source": [
    "export.to_csv(r'./../output/markercount.csv',index = True, header = False)"
   ]
  }
 ],
 "metadata": {
  "kernelspec": {
   "display_name": "Python 3 (ipykernel)",
   "language": "python",
   "name": "python3"
  },
  "language_info": {
   "codemirror_mode": {
    "name": "ipython",
    "version": 3
   },
   "file_extension": ".py",
   "mimetype": "text/x-python",
   "name": "python",
   "nbconvert_exporter": "python",
   "pygments_lexer": "ipython3",
   "version": "3.10.9"
  }
 },
 "nbformat": 4,
 "nbformat_minor": 5
}
