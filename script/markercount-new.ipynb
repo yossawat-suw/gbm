{
 "cells": [
  {
   "cell_type": "code",
   "execution_count": 1,
   "id": "4ead3940-bf95-4e49-9c8c-c11463cab34b",
   "metadata": {},
   "outputs": [
    {
     "name": "stdout",
     "output_type": "stream",
     "text": [
      "https://github.com/combio-dku\n"
     ]
    }
   ],
   "source": [
    "import copy\n",
    "import numpy as np\n",
    "import pandas as pd\n",
    "import scanpy as sc\n",
    "from MarkerCount.marker_count import MarkerCount_Ref, MarkerCount"
   ]
  },
  {
   "cell_type": "code",
   "execution_count": 2,
   "id": "fbcbcf18-7dab-4d70-9db5-4d201d27474a",
   "metadata": {
    "tags": []
   },
   "outputs": [],
   "source": [
    "from importlib.metadata import version"
   ]
  },
  {
   "cell_type": "code",
   "execution_count": 3,
   "id": "0d6a9768-c4a6-4f05-bf1b-5b9121256841",
   "metadata": {
    "tags": []
   },
   "outputs": [
    {
     "data": {
      "text/plain": [
       "'1.4.3'"
      ]
     },
     "execution_count": 3,
     "metadata": {},
     "output_type": "execute_result"
    }
   ],
   "source": [
    "version('pandas')\n",
    "\n",
    "#require use of 1.4.3 panda"
   ]
  },
  {
   "cell_type": "markdown",
   "id": "0a6c8dee-871d-4be5-b0b2-02db0ff9fa74",
   "metadata": {},
   "source": [
    "#### Import markers"
   ]
  },
  {
   "cell_type": "code",
   "execution_count": 4,
   "id": "3e2ad50a-69f2-409e-bbb9-73b9d6fdb7f3",
   "metadata": {},
   "outputs": [],
   "source": [
    "#file_marker_matrix = './../data/gbm_subtye_genelist_markercount.xlsx'\n",
    "file_marker_matrix = './../data/gbm_MESImm_markercount.xlsx'\n",
    "#file_marker_matrix = './../data/gbm_subtype_new_markercount.xlsx'\n",
    "#file_marker_matrix = './../data/gbm_subtype_new_50_markercount.xlsx'\n",
    "\n",
    "df_mkr_mat = pd.read_excel(file_marker_matrix, index_col = 0, sheet_name=0)\n",
    "\n",
    "#This is for subsheet which have 4 subtype (MES1 + MES2 = MES, and also combined NPC)\n",
    "#df_mkr_mat = pd.read_excel(file_marker_matrix, index_col = 0, sheet_name=1)\n",
    "\n",
    "df_mkr_mat.fillna(0,inplace=True)\n",
    "df_mkr_mat= df_mkr_mat.astype(int)"
   ]
  },
  {
   "cell_type": "code",
   "execution_count": 5,
   "id": "591ce695-63b2-4040-bb5c-8efba91b15c6",
   "metadata": {},
   "outputs": [
    {
     "data": {
      "text/html": [
       "<div>\n",
       "<style scoped>\n",
       "    .dataframe tbody tr th:only-of-type {\n",
       "        vertical-align: middle;\n",
       "    }\n",
       "\n",
       "    .dataframe tbody tr th {\n",
       "        vertical-align: top;\n",
       "    }\n",
       "\n",
       "    .dataframe thead th {\n",
       "        text-align: right;\n",
       "    }\n",
       "</style>\n",
       "<table border=\"1\" class=\"dataframe\">\n",
       "  <thead>\n",
       "    <tr style=\"text-align: right;\">\n",
       "      <th></th>\n",
       "      <th>TGFBI</th>\n",
       "      <th>COL14A1</th>\n",
       "      <th>MYL9</th>\n",
       "      <th>TNFAIP2</th>\n",
       "      <th>IGFBP6</th>\n",
       "      <th>COL3A1</th>\n",
       "      <th>SULF1</th>\n",
       "      <th>ADAMTSL1</th>\n",
       "      <th>VAT1L</th>\n",
       "      <th>OAS2</th>\n",
       "      <th>...</th>\n",
       "      <th>MARCKSL1</th>\n",
       "      <th>ARHGEF9</th>\n",
       "      <th>CASK</th>\n",
       "      <th>ST8SIA1</th>\n",
       "      <th>ZNF776</th>\n",
       "      <th>LANCL2</th>\n",
       "      <th>SPHK2</th>\n",
       "      <th>ZNF45</th>\n",
       "      <th>TCF12</th>\n",
       "      <th>ARHGEF7</th>\n",
       "    </tr>\n",
       "    <tr>\n",
       "      <th>celltype</th>\n",
       "      <th></th>\n",
       "      <th></th>\n",
       "      <th></th>\n",
       "      <th></th>\n",
       "      <th></th>\n",
       "      <th></th>\n",
       "      <th></th>\n",
       "      <th></th>\n",
       "      <th></th>\n",
       "      <th></th>\n",
       "      <th></th>\n",
       "      <th></th>\n",
       "      <th></th>\n",
       "      <th></th>\n",
       "      <th></th>\n",
       "      <th></th>\n",
       "      <th></th>\n",
       "      <th></th>\n",
       "      <th></th>\n",
       "      <th></th>\n",
       "      <th></th>\n",
       "    </tr>\n",
       "  </thead>\n",
       "  <tbody>\n",
       "    <tr>\n",
       "      <th>MESImm</th>\n",
       "      <td>1</td>\n",
       "      <td>1</td>\n",
       "      <td>1</td>\n",
       "      <td>1</td>\n",
       "      <td>1</td>\n",
       "      <td>1</td>\n",
       "      <td>1</td>\n",
       "      <td>1</td>\n",
       "      <td>1</td>\n",
       "      <td>1</td>\n",
       "      <td>...</td>\n",
       "      <td>0</td>\n",
       "      <td>0</td>\n",
       "      <td>0</td>\n",
       "      <td>0</td>\n",
       "      <td>0</td>\n",
       "      <td>0</td>\n",
       "      <td>0</td>\n",
       "      <td>0</td>\n",
       "      <td>0</td>\n",
       "      <td>0</td>\n",
       "    </tr>\n",
       "    <tr>\n",
       "      <th>Non_MESImm</th>\n",
       "      <td>0</td>\n",
       "      <td>0</td>\n",
       "      <td>0</td>\n",
       "      <td>0</td>\n",
       "      <td>0</td>\n",
       "      <td>0</td>\n",
       "      <td>0</td>\n",
       "      <td>0</td>\n",
       "      <td>0</td>\n",
       "      <td>0</td>\n",
       "      <td>...</td>\n",
       "      <td>1</td>\n",
       "      <td>1</td>\n",
       "      <td>1</td>\n",
       "      <td>1</td>\n",
       "      <td>1</td>\n",
       "      <td>1</td>\n",
       "      <td>1</td>\n",
       "      <td>1</td>\n",
       "      <td>1</td>\n",
       "      <td>1</td>\n",
       "    </tr>\n",
       "  </tbody>\n",
       "</table>\n",
       "<p>2 rows × 824 columns</p>\n",
       "</div>"
      ],
      "text/plain": [
       "            TGFBI  COL14A1  MYL9  TNFAIP2  IGFBP6  COL3A1  SULF1  ADAMTSL1  \\\n",
       "celltype                                                                     \n",
       "MESImm          1        1     1        1       1       1      1         1   \n",
       "Non_MESImm      0        0     0        0       0       0      0         0   \n",
       "\n",
       "            VAT1L  OAS2  ...  MARCKSL1  ARHGEF9  CASK  ST8SIA1  ZNF776  \\\n",
       "celltype                 ...                                             \n",
       "MESImm          1     1  ...         0        0     0        0       0   \n",
       "Non_MESImm      0     0  ...         1        1     1        1       1   \n",
       "\n",
       "            LANCL2  SPHK2  ZNF45  TCF12  ARHGEF7  \n",
       "celltype                                          \n",
       "MESImm           0      0      0      0        0  \n",
       "Non_MESImm       1      1      1      1        1  \n",
       "\n",
       "[2 rows x 824 columns]"
      ]
     },
     "execution_count": 5,
     "metadata": {},
     "output_type": "execute_result"
    }
   ],
   "source": [
    "df_mkr_mat"
   ]
  },
  {
   "cell_type": "markdown",
   "id": "81ea1370-3982-4233-a7bd-6196c657f3f3",
   "metadata": {
    "tags": []
   },
   "source": [
    "#### Import dataset"
   ]
  },
  {
   "cell_type": "code",
   "execution_count": 6,
   "id": "37da8bfc-2987-4342-a288-dc8c23582cb7",
   "metadata": {},
   "outputs": [],
   "source": [
    "file_test = './../output/gbm_qc.h5ad'\n",
    "adata_test = sc.read_h5ad(file_test)"
   ]
  },
  {
   "cell_type": "code",
   "execution_count": 7,
   "id": "0a80c9bf",
   "metadata": {},
   "outputs": [
    {
     "data": {
      "text/plain": [
       "run1_control_AAACCCAAGACATAGT-1      run1_control_E55N\n",
       "run1_control_AAACCCAAGCGCCATC-1      run1_control_E57N\n",
       "run1_control_AAACCCACAAGCTGTT-1      run1_control_E55N\n",
       "run1_control_AAACCCACACCACTGG-1      run1_control_E57N\n",
       "run1_control_AAACCCACATGCGTGC-1      run1_control_E57N\n",
       "                                           ...        \n",
       "run2_radiated_TTTGTTGGTGAGATAT-1    run2_radiated_E35N\n",
       "run2_radiated_TTTGTTGGTGTTGACT-1    run2_radiated_E31N\n",
       "run2_radiated_TTTGTTGGTTCAAACC-1    run2_radiated_E31N\n",
       "run2_radiated_TTTGTTGTCACTACGA-1    run2_radiated_E37N\n",
       "run2_radiated_TTTGTTGTCGAACTCA-1    run2_radiated_E56N\n",
       "Name: split, Length: 20043, dtype: object"
      ]
     },
     "execution_count": 7,
     "metadata": {},
     "output_type": "execute_result"
    }
   ],
   "source": [
    "adata_test.obs['split']"
   ]
  },
  {
   "cell_type": "markdown",
   "id": "0d241e0f-47d4-43d0-bea9-5c6745024a39",
   "metadata": {},
   "source": [
    "#### Now this time calculate each seperately (but automatatically)"
   ]
  },
  {
   "cell_type": "code",
   "execution_count": 8,
   "id": "d27dfe89",
   "metadata": {},
   "outputs": [],
   "source": [
    "groups = adata_test.obs.groupby(\"split\").indices\n",
    "\n",
    "groups[\"run2_radiated_E31N\"] = np.concatenate((groups[\"run2_radiated_E31N\"], groups[\"run1_radiated_E31N\"]))\n",
    "groups[\"run2_control_E31N\"] = np.concatenate((groups[\"run2_control_E31N\"], groups[\"run1_control_E31N\"]))\n",
    "groups[\"run2_radiated_E26N\"] = np.concatenate((groups[\"run2_radiated_E26N\"], groups[\"run1_radiated_E26N\"]))\n",
    "groups[\"run2_radiated_E24N\"] = np.concatenate((groups[\"run2_radiated_E24N\"], groups[\"run1_radiated_E24N\"]))\n",
    "\n",
    "\n",
    "keys = [\"run1_radiated_E24N\",\"run1_radiated_E26N\",\"run1_control_E31N\",\"run1_radiated_E31N\"]\n",
    "\n",
    "for key in keys:\n",
    "    groups.pop(key, None)"
   ]
  },
  {
   "cell_type": "code",
   "execution_count": 9,
   "id": "21b53124",
   "metadata": {},
   "outputs": [
    {
     "name": "stdout",
     "output_type": "stream",
     "text": [
      "running: run1_control_E13N\n"
     ]
    },
    {
     "name": "stderr",
     "output_type": "stream",
     "text": [
      "/home/point/anaconda3/lib/python3.10/site-packages/MarkerCount/marker_count.py:1045: FutureWarning: Passing a set as an indexer is deprecated and will raise in a future version. Use a list instead.\n",
      "  mkrs = get_best_n_markers( df_ofreq_tmp_all.loc[:,ct_mkrs], ct, of_th = of_th, \\\n",
      "/tmp/ipykernel_206440/2094353085.py:13: ImplicitModificationWarning: Trying to modify attribute `.obs` of view, initializing view as actual.\n",
      "  each.obs['markercount'] = df_res['cell_type_pred']\n"
     ]
    },
    {
     "name": "stdout",
     "output_type": "stream",
     "text": [
      "done: run1_control_E13N\n",
      "running: run1_control_E51N\n"
     ]
    },
    {
     "name": "stderr",
     "output_type": "stream",
     "text": [
      "/home/point/anaconda3/lib/python3.10/site-packages/MarkerCount/marker_count.py:1045: FutureWarning: Passing a set as an indexer is deprecated and will raise in a future version. Use a list instead.\n",
      "  mkrs = get_best_n_markers( df_ofreq_tmp_all.loc[:,ct_mkrs], ct, of_th = of_th, \\\n",
      "/tmp/ipykernel_206440/2094353085.py:13: ImplicitModificationWarning: Trying to modify attribute `.obs` of view, initializing view as actual.\n",
      "  each.obs['markercount'] = df_res['cell_type_pred']\n"
     ]
    },
    {
     "name": "stdout",
     "output_type": "stream",
     "text": [
      "done: run1_control_E51N\n",
      "running: run1_control_E53N\n"
     ]
    },
    {
     "name": "stderr",
     "output_type": "stream",
     "text": [
      "/home/point/anaconda3/lib/python3.10/site-packages/MarkerCount/marker_count.py:1045: FutureWarning: Passing a set as an indexer is deprecated and will raise in a future version. Use a list instead.\n",
      "  mkrs = get_best_n_markers( df_ofreq_tmp_all.loc[:,ct_mkrs], ct, of_th = of_th, \\\n",
      "/tmp/ipykernel_206440/2094353085.py:13: ImplicitModificationWarning: Trying to modify attribute `.obs` of view, initializing view as actual.\n",
      "  each.obs['markercount'] = df_res['cell_type_pred']\n"
     ]
    },
    {
     "name": "stdout",
     "output_type": "stream",
     "text": [
      "done: run1_control_E53N\n",
      "running: run1_control_E55N\n"
     ]
    },
    {
     "name": "stderr",
     "output_type": "stream",
     "text": [
      "/home/point/anaconda3/lib/python3.10/site-packages/MarkerCount/marker_count.py:1045: FutureWarning: Passing a set as an indexer is deprecated and will raise in a future version. Use a list instead.\n",
      "  mkrs = get_best_n_markers( df_ofreq_tmp_all.loc[:,ct_mkrs], ct, of_th = of_th, \\\n",
      "/tmp/ipykernel_206440/2094353085.py:13: ImplicitModificationWarning: Trying to modify attribute `.obs` of view, initializing view as actual.\n",
      "  each.obs['markercount'] = df_res['cell_type_pred']\n"
     ]
    },
    {
     "name": "stdout",
     "output_type": "stream",
     "text": [
      "done: run1_control_E55N\n",
      "running: run1_control_E57N\n"
     ]
    },
    {
     "name": "stderr",
     "output_type": "stream",
     "text": [
      "/home/point/anaconda3/lib/python3.10/site-packages/MarkerCount/marker_count.py:1045: FutureWarning: Passing a set as an indexer is deprecated and will raise in a future version. Use a list instead.\n",
      "  mkrs = get_best_n_markers( df_ofreq_tmp_all.loc[:,ct_mkrs], ct, of_th = of_th, \\\n",
      "/tmp/ipykernel_206440/2094353085.py:13: ImplicitModificationWarning: Trying to modify attribute `.obs` of view, initializing view as actual.\n",
      "  each.obs['markercount'] = df_res['cell_type_pred']\n"
     ]
    },
    {
     "name": "stdout",
     "output_type": "stream",
     "text": [
      "done: run1_control_E57N\n",
      "running: run1_radiated_E13N\n"
     ]
    },
    {
     "name": "stderr",
     "output_type": "stream",
     "text": [
      "/home/point/anaconda3/lib/python3.10/site-packages/MarkerCount/marker_count.py:1045: FutureWarning: Passing a set as an indexer is deprecated and will raise in a future version. Use a list instead.\n",
      "  mkrs = get_best_n_markers( df_ofreq_tmp_all.loc[:,ct_mkrs], ct, of_th = of_th, \\\n",
      "/tmp/ipykernel_206440/2094353085.py:13: ImplicitModificationWarning: Trying to modify attribute `.obs` of view, initializing view as actual.\n",
      "  each.obs['markercount'] = df_res['cell_type_pred']\n"
     ]
    },
    {
     "name": "stdout",
     "output_type": "stream",
     "text": [
      "done: run1_radiated_E13N\n",
      "running: run1_radiated_E51N\n"
     ]
    },
    {
     "name": "stderr",
     "output_type": "stream",
     "text": [
      "/home/point/anaconda3/lib/python3.10/site-packages/MarkerCount/marker_count.py:1045: FutureWarning: Passing a set as an indexer is deprecated and will raise in a future version. Use a list instead.\n",
      "  mkrs = get_best_n_markers( df_ofreq_tmp_all.loc[:,ct_mkrs], ct, of_th = of_th, \\\n",
      "/tmp/ipykernel_206440/2094353085.py:13: ImplicitModificationWarning: Trying to modify attribute `.obs` of view, initializing view as actual.\n",
      "  each.obs['markercount'] = df_res['cell_type_pred']\n"
     ]
    },
    {
     "name": "stdout",
     "output_type": "stream",
     "text": [
      "done: run1_radiated_E51N\n",
      "running: run1_radiated_E53N\n"
     ]
    },
    {
     "name": "stderr",
     "output_type": "stream",
     "text": [
      "/home/point/anaconda3/lib/python3.10/site-packages/MarkerCount/marker_count.py:1045: FutureWarning: Passing a set as an indexer is deprecated and will raise in a future version. Use a list instead.\n",
      "  mkrs = get_best_n_markers( df_ofreq_tmp_all.loc[:,ct_mkrs], ct, of_th = of_th, \\\n",
      "/tmp/ipykernel_206440/2094353085.py:13: ImplicitModificationWarning: Trying to modify attribute `.obs` of view, initializing view as actual.\n",
      "  each.obs['markercount'] = df_res['cell_type_pred']\n"
     ]
    },
    {
     "name": "stdout",
     "output_type": "stream",
     "text": [
      "done: run1_radiated_E53N\n",
      "running: run1_radiated_E55N\n"
     ]
    },
    {
     "name": "stderr",
     "output_type": "stream",
     "text": [
      "/home/point/anaconda3/lib/python3.10/site-packages/MarkerCount/marker_count.py:1045: FutureWarning: Passing a set as an indexer is deprecated and will raise in a future version. Use a list instead.\n",
      "  mkrs = get_best_n_markers( df_ofreq_tmp_all.loc[:,ct_mkrs], ct, of_th = of_th, \\\n",
      "/tmp/ipykernel_206440/2094353085.py:13: ImplicitModificationWarning: Trying to modify attribute `.obs` of view, initializing view as actual.\n",
      "  each.obs['markercount'] = df_res['cell_type_pred']\n"
     ]
    },
    {
     "name": "stdout",
     "output_type": "stream",
     "text": [
      "done: run1_radiated_E55N\n",
      "running: run1_radiated_E57N\n"
     ]
    },
    {
     "name": "stderr",
     "output_type": "stream",
     "text": [
      "/home/point/anaconda3/lib/python3.10/site-packages/MarkerCount/marker_count.py:1045: FutureWarning: Passing a set as an indexer is deprecated and will raise in a future version. Use a list instead.\n",
      "  mkrs = get_best_n_markers( df_ofreq_tmp_all.loc[:,ct_mkrs], ct, of_th = of_th, \\\n",
      "/tmp/ipykernel_206440/2094353085.py:13: ImplicitModificationWarning: Trying to modify attribute `.obs` of view, initializing view as actual.\n",
      "  each.obs['markercount'] = df_res['cell_type_pred']\n"
     ]
    },
    {
     "name": "stdout",
     "output_type": "stream",
     "text": [
      "done: run1_radiated_E57N\n",
      "running: run2_control_E24N\n"
     ]
    },
    {
     "name": "stderr",
     "output_type": "stream",
     "text": [
      "/home/point/anaconda3/lib/python3.10/site-packages/MarkerCount/marker_count.py:1045: FutureWarning: Passing a set as an indexer is deprecated and will raise in a future version. Use a list instead.\n",
      "  mkrs = get_best_n_markers( df_ofreq_tmp_all.loc[:,ct_mkrs], ct, of_th = of_th, \\\n",
      "/tmp/ipykernel_206440/2094353085.py:13: ImplicitModificationWarning: Trying to modify attribute `.obs` of view, initializing view as actual.\n",
      "  each.obs['markercount'] = df_res['cell_type_pred']\n"
     ]
    },
    {
     "name": "stdout",
     "output_type": "stream",
     "text": [
      "done: run2_control_E24N\n",
      "running: run2_control_E26N\n"
     ]
    },
    {
     "name": "stderr",
     "output_type": "stream",
     "text": [
      "/home/point/anaconda3/lib/python3.10/site-packages/MarkerCount/marker_count.py:1045: FutureWarning: Passing a set as an indexer is deprecated and will raise in a future version. Use a list instead.\n",
      "  mkrs = get_best_n_markers( df_ofreq_tmp_all.loc[:,ct_mkrs], ct, of_th = of_th, \\\n",
      "/tmp/ipykernel_206440/2094353085.py:13: ImplicitModificationWarning: Trying to modify attribute `.obs` of view, initializing view as actual.\n",
      "  each.obs['markercount'] = df_res['cell_type_pred']\n"
     ]
    },
    {
     "name": "stdout",
     "output_type": "stream",
     "text": [
      "done: run2_control_E26N\n",
      "running: run2_control_E31N\n"
     ]
    },
    {
     "name": "stderr",
     "output_type": "stream",
     "text": [
      "/home/point/anaconda3/lib/python3.10/site-packages/MarkerCount/marker_count.py:1045: FutureWarning: Passing a set as an indexer is deprecated and will raise in a future version. Use a list instead.\n",
      "  mkrs = get_best_n_markers( df_ofreq_tmp_all.loc[:,ct_mkrs], ct, of_th = of_th, \\\n",
      "/tmp/ipykernel_206440/2094353085.py:13: ImplicitModificationWarning: Trying to modify attribute `.obs` of view, initializing view as actual.\n",
      "  each.obs['markercount'] = df_res['cell_type_pred']\n"
     ]
    },
    {
     "name": "stdout",
     "output_type": "stream",
     "text": [
      "done: run2_control_E31N\n",
      "running: run2_control_E35N\n"
     ]
    },
    {
     "name": "stderr",
     "output_type": "stream",
     "text": [
      "/home/point/anaconda3/lib/python3.10/site-packages/MarkerCount/marker_count.py:1045: FutureWarning: Passing a set as an indexer is deprecated and will raise in a future version. Use a list instead.\n",
      "  mkrs = get_best_n_markers( df_ofreq_tmp_all.loc[:,ct_mkrs], ct, of_th = of_th, \\\n",
      "/tmp/ipykernel_206440/2094353085.py:13: ImplicitModificationWarning: Trying to modify attribute `.obs` of view, initializing view as actual.\n",
      "  each.obs['markercount'] = df_res['cell_type_pred']\n"
     ]
    },
    {
     "name": "stdout",
     "output_type": "stream",
     "text": [
      "done: run2_control_E35N\n",
      "running: run2_control_E37N\n"
     ]
    },
    {
     "name": "stderr",
     "output_type": "stream",
     "text": [
      "/home/point/anaconda3/lib/python3.10/site-packages/MarkerCount/marker_count.py:1045: FutureWarning: Passing a set as an indexer is deprecated and will raise in a future version. Use a list instead.\n",
      "  mkrs = get_best_n_markers( df_ofreq_tmp_all.loc[:,ct_mkrs], ct, of_th = of_th, \\\n",
      "/tmp/ipykernel_206440/2094353085.py:13: ImplicitModificationWarning: Trying to modify attribute `.obs` of view, initializing view as actual.\n",
      "  each.obs['markercount'] = df_res['cell_type_pred']\n"
     ]
    },
    {
     "name": "stdout",
     "output_type": "stream",
     "text": [
      "done: run2_control_E37N\n",
      "running: run2_control_E39N\n"
     ]
    },
    {
     "name": "stderr",
     "output_type": "stream",
     "text": [
      "/home/point/anaconda3/lib/python3.10/site-packages/MarkerCount/marker_count.py:1045: FutureWarning: Passing a set as an indexer is deprecated and will raise in a future version. Use a list instead.\n",
      "  mkrs = get_best_n_markers( df_ofreq_tmp_all.loc[:,ct_mkrs], ct, of_th = of_th, \\\n",
      "/home/point/anaconda3/lib/python3.10/site-packages/MarkerCount/marker_count.py:1045: FutureWarning: Passing a set as an indexer is deprecated and will raise in a future version. Use a list instead.\n",
      "  mkrs = get_best_n_markers( df_ofreq_tmp_all.loc[:,ct_mkrs], ct, of_th = of_th, \\\n",
      "/tmp/ipykernel_206440/2094353085.py:13: ImplicitModificationWarning: Trying to modify attribute `.obs` of view, initializing view as actual.\n",
      "  each.obs['markercount'] = df_res['cell_type_pred']\n"
     ]
    },
    {
     "name": "stdout",
     "output_type": "stream",
     "text": [
      "done: run2_control_E39N\n",
      "running: run2_control_E56N\n"
     ]
    },
    {
     "name": "stderr",
     "output_type": "stream",
     "text": [
      "/home/point/anaconda3/lib/python3.10/site-packages/MarkerCount/marker_count.py:1045: FutureWarning: Passing a set as an indexer is deprecated and will raise in a future version. Use a list instead.\n",
      "  mkrs = get_best_n_markers( df_ofreq_tmp_all.loc[:,ct_mkrs], ct, of_th = of_th, \\\n",
      "/tmp/ipykernel_206440/2094353085.py:13: ImplicitModificationWarning: Trying to modify attribute `.obs` of view, initializing view as actual.\n",
      "  each.obs['markercount'] = df_res['cell_type_pred']\n"
     ]
    },
    {
     "name": "stdout",
     "output_type": "stream",
     "text": [
      "done: run2_control_E56N\n",
      "running: run2_control_E62N\n"
     ]
    },
    {
     "name": "stderr",
     "output_type": "stream",
     "text": [
      "/home/point/anaconda3/lib/python3.10/site-packages/MarkerCount/marker_count.py:1045: FutureWarning: Passing a set as an indexer is deprecated and will raise in a future version. Use a list instead.\n",
      "  mkrs = get_best_n_markers( df_ofreq_tmp_all.loc[:,ct_mkrs], ct, of_th = of_th, \\\n",
      "/home/point/anaconda3/lib/python3.10/site-packages/MarkerCount/marker_count.py:1045: FutureWarning: Passing a set as an indexer is deprecated and will raise in a future version. Use a list instead.\n",
      "  mkrs = get_best_n_markers( df_ofreq_tmp_all.loc[:,ct_mkrs], ct, of_th = of_th, \\\n",
      "/tmp/ipykernel_206440/2094353085.py:13: ImplicitModificationWarning: Trying to modify attribute `.obs` of view, initializing view as actual.\n",
      "  each.obs['markercount'] = df_res['cell_type_pred']\n"
     ]
    },
    {
     "name": "stdout",
     "output_type": "stream",
     "text": [
      "done: run2_control_E62N\n",
      "running: run2_radiated_E24N\n"
     ]
    },
    {
     "name": "stderr",
     "output_type": "stream",
     "text": [
      "/home/point/anaconda3/lib/python3.10/site-packages/MarkerCount/marker_count.py:1045: FutureWarning: Passing a set as an indexer is deprecated and will raise in a future version. Use a list instead.\n",
      "  mkrs = get_best_n_markers( df_ofreq_tmp_all.loc[:,ct_mkrs], ct, of_th = of_th, \\\n",
      "/home/point/anaconda3/lib/python3.10/site-packages/MarkerCount/marker_count.py:1045: FutureWarning: Passing a set as an indexer is deprecated and will raise in a future version. Use a list instead.\n",
      "  mkrs = get_best_n_markers( df_ofreq_tmp_all.loc[:,ct_mkrs], ct, of_th = of_th, \\\n",
      "/tmp/ipykernel_206440/2094353085.py:13: ImplicitModificationWarning: Trying to modify attribute `.obs` of view, initializing view as actual.\n",
      "  each.obs['markercount'] = df_res['cell_type_pred']\n"
     ]
    },
    {
     "name": "stdout",
     "output_type": "stream",
     "text": [
      "done: run2_radiated_E24N\n",
      "running: run2_radiated_E26N\n"
     ]
    },
    {
     "name": "stderr",
     "output_type": "stream",
     "text": [
      "/home/point/anaconda3/lib/python3.10/site-packages/MarkerCount/marker_count.py:1045: FutureWarning: Passing a set as an indexer is deprecated and will raise in a future version. Use a list instead.\n",
      "  mkrs = get_best_n_markers( df_ofreq_tmp_all.loc[:,ct_mkrs], ct, of_th = of_th, \\\n",
      "/tmp/ipykernel_206440/2094353085.py:13: ImplicitModificationWarning: Trying to modify attribute `.obs` of view, initializing view as actual.\n",
      "  each.obs['markercount'] = df_res['cell_type_pred']\n"
     ]
    },
    {
     "name": "stdout",
     "output_type": "stream",
     "text": [
      "done: run2_radiated_E26N\n",
      "running: run2_radiated_E31N\n"
     ]
    },
    {
     "name": "stderr",
     "output_type": "stream",
     "text": [
      "/home/point/anaconda3/lib/python3.10/site-packages/MarkerCount/marker_count.py:1045: FutureWarning: Passing a set as an indexer is deprecated and will raise in a future version. Use a list instead.\n",
      "  mkrs = get_best_n_markers( df_ofreq_tmp_all.loc[:,ct_mkrs], ct, of_th = of_th, \\\n",
      "/tmp/ipykernel_206440/2094353085.py:13: ImplicitModificationWarning: Trying to modify attribute `.obs` of view, initializing view as actual.\n",
      "  each.obs['markercount'] = df_res['cell_type_pred']\n"
     ]
    },
    {
     "name": "stdout",
     "output_type": "stream",
     "text": [
      "done: run2_radiated_E31N\n",
      "running: run2_radiated_E35N\n"
     ]
    },
    {
     "name": "stderr",
     "output_type": "stream",
     "text": [
      "/home/point/anaconda3/lib/python3.10/site-packages/MarkerCount/marker_count.py:1045: FutureWarning: Passing a set as an indexer is deprecated and will raise in a future version. Use a list instead.\n",
      "  mkrs = get_best_n_markers( df_ofreq_tmp_all.loc[:,ct_mkrs], ct, of_th = of_th, \\\n",
      "/tmp/ipykernel_206440/2094353085.py:13: ImplicitModificationWarning: Trying to modify attribute `.obs` of view, initializing view as actual.\n",
      "  each.obs['markercount'] = df_res['cell_type_pred']\n"
     ]
    },
    {
     "name": "stdout",
     "output_type": "stream",
     "text": [
      "done: run2_radiated_E35N\n",
      "running: run2_radiated_E37N\n"
     ]
    },
    {
     "name": "stderr",
     "output_type": "stream",
     "text": [
      "/home/point/anaconda3/lib/python3.10/site-packages/MarkerCount/marker_count.py:1045: FutureWarning: Passing a set as an indexer is deprecated and will raise in a future version. Use a list instead.\n",
      "  mkrs = get_best_n_markers( df_ofreq_tmp_all.loc[:,ct_mkrs], ct, of_th = of_th, \\\n",
      "/tmp/ipykernel_206440/2094353085.py:13: ImplicitModificationWarning: Trying to modify attribute `.obs` of view, initializing view as actual.\n",
      "  each.obs['markercount'] = df_res['cell_type_pred']\n"
     ]
    },
    {
     "name": "stdout",
     "output_type": "stream",
     "text": [
      "done: run2_radiated_E37N\n",
      "running: run2_radiated_E39N\n"
     ]
    },
    {
     "name": "stderr",
     "output_type": "stream",
     "text": [
      "/home/point/anaconda3/lib/python3.10/site-packages/MarkerCount/marker_count.py:1045: FutureWarning: Passing a set as an indexer is deprecated and will raise in a future version. Use a list instead.\n",
      "  mkrs = get_best_n_markers( df_ofreq_tmp_all.loc[:,ct_mkrs], ct, of_th = of_th, \\\n",
      "/home/point/anaconda3/lib/python3.10/site-packages/MarkerCount/marker_count.py:1045: FutureWarning: Passing a set as an indexer is deprecated and will raise in a future version. Use a list instead.\n",
      "  mkrs = get_best_n_markers( df_ofreq_tmp_all.loc[:,ct_mkrs], ct, of_th = of_th, \\\n",
      "/tmp/ipykernel_206440/2094353085.py:13: ImplicitModificationWarning: Trying to modify attribute `.obs` of view, initializing view as actual.\n",
      "  each.obs['markercount'] = df_res['cell_type_pred']\n"
     ]
    },
    {
     "name": "stdout",
     "output_type": "stream",
     "text": [
      "done: run2_radiated_E39N\n",
      "running: run2_radiated_E56N\n"
     ]
    },
    {
     "name": "stderr",
     "output_type": "stream",
     "text": [
      "/home/point/anaconda3/lib/python3.10/site-packages/MarkerCount/marker_count.py:1045: FutureWarning: Passing a set as an indexer is deprecated and will raise in a future version. Use a list instead.\n",
      "  mkrs = get_best_n_markers( df_ofreq_tmp_all.loc[:,ct_mkrs], ct, of_th = of_th, \\\n",
      "/tmp/ipykernel_206440/2094353085.py:13: ImplicitModificationWarning: Trying to modify attribute `.obs` of view, initializing view as actual.\n",
      "  each.obs['markercount'] = df_res['cell_type_pred']\n"
     ]
    },
    {
     "name": "stdout",
     "output_type": "stream",
     "text": [
      "done: run2_radiated_E56N\n",
      "running: run2_radiated_E62N\n",
      "done: run2_radiated_E62N\n"
     ]
    },
    {
     "name": "stderr",
     "output_type": "stream",
     "text": [
      "/home/point/anaconda3/lib/python3.10/site-packages/MarkerCount/marker_count.py:1045: FutureWarning: Passing a set as an indexer is deprecated and will raise in a future version. Use a list instead.\n",
      "  mkrs = get_best_n_markers( df_ofreq_tmp_all.loc[:,ct_mkrs], ct, of_th = of_th, \\\n",
      "/home/point/anaconda3/lib/python3.10/site-packages/MarkerCount/marker_count.py:1045: FutureWarning: Passing a set as an indexer is deprecated and will raise in a future version. Use a list instead.\n",
      "  mkrs = get_best_n_markers( df_ofreq_tmp_all.loc[:,ct_mkrs], ct, of_th = of_th, \\\n",
      "/tmp/ipykernel_206440/2094353085.py:13: ImplicitModificationWarning: Trying to modify attribute `.obs` of view, initializing view as actual.\n",
      "  each.obs['markercount'] = df_res['cell_type_pred']\n"
     ]
    }
   ],
   "source": [
    "res_list= []\n",
    "pred_list = []\n",
    "for i in groups:\n",
    "    each = adata_test[groups[i]]\n",
    "    print(\"running: \"+i)\n",
    "    #Just same code\n",
    "    X_test = each.to_df() # rows: cell, cols: genes\n",
    "    df_res = MarkerCount(X_test, df_mkr_mat, \\\n",
    "                          log_transformed = False, verbose = False )  \n",
    "\n",
    "    res_list.append(df_res)\n",
    "\n",
    "    each.obs['markercount'] = df_res['cell_type_pred'] \n",
    "    export = each.obs[['markercount']]\n",
    "\n",
    "    pred_list.append(export)\n",
    "    print(\"done: \"+i)"
   ]
  },
  {
   "cell_type": "code",
   "execution_count": 10,
   "id": "ecc11ca7-98d3-46e5-821e-cb79198152c7",
   "metadata": {},
   "outputs": [],
   "source": [
    "pred_all = pd.concat(pred_list)"
   ]
  },
  {
   "cell_type": "code",
   "execution_count": 11,
   "id": "fb7b181e",
   "metadata": {},
   "outputs": [
    {
     "data": {
      "text/html": [
       "<div>\n",
       "<style scoped>\n",
       "    .dataframe tbody tr th:only-of-type {\n",
       "        vertical-align: middle;\n",
       "    }\n",
       "\n",
       "    .dataframe tbody tr th {\n",
       "        vertical-align: top;\n",
       "    }\n",
       "\n",
       "    .dataframe thead th {\n",
       "        text-align: right;\n",
       "    }\n",
       "</style>\n",
       "<table border=\"1\" class=\"dataframe\">\n",
       "  <thead>\n",
       "    <tr style=\"text-align: right;\">\n",
       "      <th></th>\n",
       "      <th>markercount</th>\n",
       "    </tr>\n",
       "  </thead>\n",
       "  <tbody>\n",
       "    <tr>\n",
       "      <th>run1_control_AAACGAAGTGGATTTC-1</th>\n",
       "      <td>MESImm</td>\n",
       "    </tr>\n",
       "    <tr>\n",
       "      <th>run1_control_AAACGCTGTATCGAAA-1</th>\n",
       "      <td>MESImm</td>\n",
       "    </tr>\n",
       "    <tr>\n",
       "      <th>run1_control_AAACGCTTCTGGCTGG-1</th>\n",
       "      <td>MESImm</td>\n",
       "    </tr>\n",
       "    <tr>\n",
       "      <th>run1_control_AAAGAACAGATCGGTG-1</th>\n",
       "      <td>MESImm</td>\n",
       "    </tr>\n",
       "    <tr>\n",
       "      <th>run1_control_AAAGGGCAGGTCCGAA-1</th>\n",
       "      <td>MESImm</td>\n",
       "    </tr>\n",
       "    <tr>\n",
       "      <th>...</th>\n",
       "      <td>...</td>\n",
       "    </tr>\n",
       "    <tr>\n",
       "      <th>run2_radiated_TTGAGTGCAGGTGTGA-1</th>\n",
       "      <td>Non_MESImm</td>\n",
       "    </tr>\n",
       "    <tr>\n",
       "      <th>run2_radiated_TTGGTTTCATCGAGCC-1</th>\n",
       "      <td>Non_MESImm</td>\n",
       "    </tr>\n",
       "    <tr>\n",
       "      <th>run2_radiated_TTTACCAAGCAGTACG-1</th>\n",
       "      <td>Non_MESImm</td>\n",
       "    </tr>\n",
       "    <tr>\n",
       "      <th>run2_radiated_TTTGGTTAGACCACGA-1</th>\n",
       "      <td>unassigned</td>\n",
       "    </tr>\n",
       "    <tr>\n",
       "      <th>run2_radiated_TTTGTTGAGAATCGAT-1</th>\n",
       "      <td>Non_MESImm</td>\n",
       "    </tr>\n",
       "  </tbody>\n",
       "</table>\n",
       "<p>20043 rows × 1 columns</p>\n",
       "</div>"
      ],
      "text/plain": [
       "                                 markercount\n",
       "run1_control_AAACGAAGTGGATTTC-1       MESImm\n",
       "run1_control_AAACGCTGTATCGAAA-1       MESImm\n",
       "run1_control_AAACGCTTCTGGCTGG-1       MESImm\n",
       "run1_control_AAAGAACAGATCGGTG-1       MESImm\n",
       "run1_control_AAAGGGCAGGTCCGAA-1       MESImm\n",
       "...                                      ...\n",
       "run2_radiated_TTGAGTGCAGGTGTGA-1  Non_MESImm\n",
       "run2_radiated_TTGGTTTCATCGAGCC-1  Non_MESImm\n",
       "run2_radiated_TTTACCAAGCAGTACG-1  Non_MESImm\n",
       "run2_radiated_TTTGGTTAGACCACGA-1  unassigned\n",
       "run2_radiated_TTTGTTGAGAATCGAT-1  Non_MESImm\n",
       "\n",
       "[20043 rows x 1 columns]"
      ]
     },
     "execution_count": 11,
     "metadata": {},
     "output_type": "execute_result"
    }
   ],
   "source": [
    "pred_all"
   ]
  },
  {
   "cell_type": "code",
   "execution_count": 12,
   "id": "ab36a80d-b171-49c6-9ea6-a6c900aa9a57",
   "metadata": {},
   "outputs": [
    {
     "data": {
      "text/plain": [
       "0"
      ]
     },
     "execution_count": 12,
     "metadata": {},
     "output_type": "execute_result"
    }
   ],
   "source": [
    "# Check whether there is a duplication of cell_id \n",
    "cell_id = pred_all.index.values\n",
    "\n",
    "u, c = np.unique(cell_id, return_counts=True)\n",
    "dup = u[c > 1]\n",
    "\n",
    "len(dup)"
   ]
  },
  {
   "cell_type": "code",
   "execution_count": 13,
   "id": "c5c6ca6a-99d5-4026-9d42-0fee7048dc27",
   "metadata": {},
   "outputs": [],
   "source": [
    "# Yeah, there are\n",
    "# so it is reasonable to convert rowname to first column as \"R\" dataframe cannot handle replicated rownames\n",
    "\n",
    "pred_all.index.name = 'cell_id'\n",
    "pred_all.reset_index(inplace=True)"
   ]
  },
  {
   "cell_type": "code",
   "execution_count": 14,
   "id": "249987cd-f622-4d4e-bdad-ed54ef5a738e",
   "metadata": {},
   "outputs": [
    {
     "data": {
      "text/html": [
       "<div>\n",
       "<style scoped>\n",
       "    .dataframe tbody tr th:only-of-type {\n",
       "        vertical-align: middle;\n",
       "    }\n",
       "\n",
       "    .dataframe tbody tr th {\n",
       "        vertical-align: top;\n",
       "    }\n",
       "\n",
       "    .dataframe thead th {\n",
       "        text-align: right;\n",
       "    }\n",
       "</style>\n",
       "<table border=\"1\" class=\"dataframe\">\n",
       "  <thead>\n",
       "    <tr style=\"text-align: right;\">\n",
       "      <th></th>\n",
       "      <th>cell_id</th>\n",
       "      <th>markercount</th>\n",
       "    </tr>\n",
       "  </thead>\n",
       "  <tbody>\n",
       "    <tr>\n",
       "      <th>0</th>\n",
       "      <td>run1_control_AAACGAAGTGGATTTC-1</td>\n",
       "      <td>MESImm</td>\n",
       "    </tr>\n",
       "    <tr>\n",
       "      <th>1</th>\n",
       "      <td>run1_control_AAACGCTGTATCGAAA-1</td>\n",
       "      <td>MESImm</td>\n",
       "    </tr>\n",
       "    <tr>\n",
       "      <th>2</th>\n",
       "      <td>run1_control_AAACGCTTCTGGCTGG-1</td>\n",
       "      <td>MESImm</td>\n",
       "    </tr>\n",
       "    <tr>\n",
       "      <th>3</th>\n",
       "      <td>run1_control_AAAGAACAGATCGGTG-1</td>\n",
       "      <td>MESImm</td>\n",
       "    </tr>\n",
       "    <tr>\n",
       "      <th>4</th>\n",
       "      <td>run1_control_AAAGGGCAGGTCCGAA-1</td>\n",
       "      <td>MESImm</td>\n",
       "    </tr>\n",
       "  </tbody>\n",
       "</table>\n",
       "</div>"
      ],
      "text/plain": [
       "                           cell_id markercount\n",
       "0  run1_control_AAACGAAGTGGATTTC-1      MESImm\n",
       "1  run1_control_AAACGCTGTATCGAAA-1      MESImm\n",
       "2  run1_control_AAACGCTTCTGGCTGG-1      MESImm\n",
       "3  run1_control_AAAGAACAGATCGGTG-1      MESImm\n",
       "4  run1_control_AAAGGGCAGGTCCGAA-1      MESImm"
      ]
     },
     "execution_count": 14,
     "metadata": {},
     "output_type": "execute_result"
    }
   ],
   "source": [
    "pred_all.head()"
   ]
  },
  {
   "cell_type": "code",
   "execution_count": 15,
   "id": "998693a3-378f-486a-8cdc-89b8eb150cc3",
   "metadata": {},
   "outputs": [],
   "source": [
    "# pred_all.to_csv('./../output/markercount.csv')\n",
    "#pred_all.to_csv('./../output/markercount_all_6metamodules.csv',index=False)\n",
    "pred_all.to_csv('./../output/markercount_all_MESImm.csv',index=False)\n",
    "#pred_all.to_csv('./../output/markercount_all_4metamodules_new.csv',index=False)\n",
    "#pred_all.to_csv('./../output/markercount_all_4metamodules_new_50.csv',index=False)"
   ]
  }
 ],
 "metadata": {
  "kernelspec": {
   "display_name": "Python 3 (ipykernel)",
   "language": "python",
   "name": "python3"
  },
  "language_info": {
   "codemirror_mode": {
    "name": "ipython",
    "version": 3
   },
   "file_extension": ".py",
   "mimetype": "text/x-python",
   "name": "python",
   "nbconvert_exporter": "python",
   "pygments_lexer": "ipython3",
   "version": "3.10.9"
  }
 },
 "nbformat": 4,
 "nbformat_minor": 5
}
